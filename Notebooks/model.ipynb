{
 "cells": [
  {
   "cell_type": "code",
   "execution_count": 1,
   "id": "c589157e",
   "metadata": {},
   "outputs": [
    {
     "data": {
      "text/plain": [
       "[('features_stock_data',),\n",
       " ('my_first_dbt_model',),\n",
       " ('my_second_dbt_model',),\n",
       " ('stg_stock_data',)]"
      ]
     },
     "execution_count": 1,
     "metadata": {},
     "output_type": "execute_result"
    }
   ],
   "source": [
    "import duckdb\n",
    "import pandas as pd\n",
    "\n",
    "# Connect to your dbt DuckDB file\n",
    "con = duckdb.connect(\"../stock_dbt_project/dev.duckdb\")\n",
    "\n",
    "\n",
    "\n",
    "con.execute(\"SHOW TABLES\").fetchall()\n"
   ]
  },
  {
   "cell_type": "code",
   "execution_count": 2,
   "id": "f1ceff6a",
   "metadata": {},
   "outputs": [],
   "source": [
    "df = con.execute(\"SELECT * FROM features_stock_data\").fetchdf()"
   ]
  },
  {
   "cell_type": "code",
   "execution_count": 3,
   "id": "747050c5",
   "metadata": {},
   "outputs": [
    {
     "data": {
      "text/html": [
       "<div>\n",
       "<style scoped>\n",
       "    .dataframe tbody tr th:only-of-type {\n",
       "        vertical-align: middle;\n",
       "    }\n",
       "\n",
       "    .dataframe tbody tr th {\n",
       "        vertical-align: top;\n",
       "    }\n",
       "\n",
       "    .dataframe thead th {\n",
       "        text-align: right;\n",
       "    }\n",
       "</style>\n",
       "<table border=\"1\" class=\"dataframe\">\n",
       "  <thead>\n",
       "    <tr style=\"text-align: right;\">\n",
       "      <th></th>\n",
       "      <th>symbol</th>\n",
       "      <th>datetime</th>\n",
       "      <th>open</th>\n",
       "      <th>high</th>\n",
       "      <th>low</th>\n",
       "      <th>close</th>\n",
       "      <th>volume</th>\n",
       "      <th>prev_close</th>\n",
       "      <th>rolling_avg_5</th>\n",
       "      <th>rolling_std_5</th>\n",
       "      <th>daily_range</th>\n",
       "      <th>avg_volume_5</th>\n",
       "      <th>daily_return</th>\n",
       "      <th>volume_ratio</th>\n",
       "      <th>rolling_volatility_10</th>\n",
       "      <th>sector</th>\n",
       "    </tr>\n",
       "  </thead>\n",
       "  <tbody>\n",
       "    <tr>\n",
       "      <th>26487</th>\n",
       "      <td>AAPL</td>\n",
       "      <td>2025-01-13 14:30:00</td>\n",
       "      <td>233.500000</td>\n",
       "      <td>233.589996</td>\n",
       "      <td>229.720001</td>\n",
       "      <td>230.380005</td>\n",
       "      <td>13314474</td>\n",
       "      <td>230.380005</td>\n",
       "      <td>230.380005</td>\n",
       "      <td>0.000000</td>\n",
       "      <td>3.869995</td>\n",
       "      <td>1.331447e+07</td>\n",
       "      <td>0.000000</td>\n",
       "      <td>1.000000</td>\n",
       "      <td>NaN</td>\n",
       "      <td>Technology</td>\n",
       "    </tr>\n",
       "    <tr>\n",
       "      <th>26488</th>\n",
       "      <td>AAPL</td>\n",
       "      <td>2025-01-13 14:30:00</td>\n",
       "      <td>233.500000</td>\n",
       "      <td>233.589996</td>\n",
       "      <td>229.720001</td>\n",
       "      <td>230.380005</td>\n",
       "      <td>13314474</td>\n",
       "      <td>NaN</td>\n",
       "      <td>230.380005</td>\n",
       "      <td>NaN</td>\n",
       "      <td>3.869995</td>\n",
       "      <td>1.331447e+07</td>\n",
       "      <td>NaN</td>\n",
       "      <td>1.000000</td>\n",
       "      <td>NaN</td>\n",
       "      <td>Technology</td>\n",
       "    </tr>\n",
       "    <tr>\n",
       "      <th>26489</th>\n",
       "      <td>AAPL</td>\n",
       "      <td>2025-01-13 15:30:00</td>\n",
       "      <td>230.380005</td>\n",
       "      <td>231.800003</td>\n",
       "      <td>230.220001</td>\n",
       "      <td>230.725006</td>\n",
       "      <td>5357189</td>\n",
       "      <td>230.380005</td>\n",
       "      <td>230.495005</td>\n",
       "      <td>0.199187</td>\n",
       "      <td>1.580002</td>\n",
       "      <td>1.066205e+07</td>\n",
       "      <td>0.149753</td>\n",
       "      <td>0.502454</td>\n",
       "      <td>0.105891</td>\n",
       "      <td>Technology</td>\n",
       "    </tr>\n",
       "    <tr>\n",
       "      <th>26490</th>\n",
       "      <td>AAPL</td>\n",
       "      <td>2025-01-13 15:30:00</td>\n",
       "      <td>230.380005</td>\n",
       "      <td>231.800003</td>\n",
       "      <td>230.220001</td>\n",
       "      <td>230.725006</td>\n",
       "      <td>5357189</td>\n",
       "      <td>230.725006</td>\n",
       "      <td>230.552505</td>\n",
       "      <td>0.199187</td>\n",
       "      <td>1.580002</td>\n",
       "      <td>9.335832e+06</td>\n",
       "      <td>0.000000</td>\n",
       "      <td>0.573831</td>\n",
       "      <td>0.086460</td>\n",
       "      <td>Technology</td>\n",
       "    </tr>\n",
       "    <tr>\n",
       "      <th>26491</th>\n",
       "      <td>AAPL</td>\n",
       "      <td>2025-01-13 16:30:00</td>\n",
       "      <td>230.732498</td>\n",
       "      <td>232.529999</td>\n",
       "      <td>230.399994</td>\n",
       "      <td>232.320007</td>\n",
       "      <td>4160495</td>\n",
       "      <td>230.725006</td>\n",
       "      <td>230.906006</td>\n",
       "      <td>0.809054</td>\n",
       "      <td>2.130005</td>\n",
       "      <td>8.300764e+06</td>\n",
       "      <td>0.691300</td>\n",
       "      <td>0.501218</td>\n",
       "      <td>0.328369</td>\n",
       "      <td>Technology</td>\n",
       "    </tr>\n",
       "  </tbody>\n",
       "</table>\n",
       "</div>"
      ],
      "text/plain": [
       "      symbol            datetime        open        high         low  \\\n",
       "26487   AAPL 2025-01-13 14:30:00  233.500000  233.589996  229.720001   \n",
       "26488   AAPL 2025-01-13 14:30:00  233.500000  233.589996  229.720001   \n",
       "26489   AAPL 2025-01-13 15:30:00  230.380005  231.800003  230.220001   \n",
       "26490   AAPL 2025-01-13 15:30:00  230.380005  231.800003  230.220001   \n",
       "26491   AAPL 2025-01-13 16:30:00  230.732498  232.529999  230.399994   \n",
       "\n",
       "            close    volume  prev_close  rolling_avg_5  rolling_std_5  \\\n",
       "26487  230.380005  13314474  230.380005     230.380005       0.000000   \n",
       "26488  230.380005  13314474         NaN     230.380005            NaN   \n",
       "26489  230.725006   5357189  230.380005     230.495005       0.199187   \n",
       "26490  230.725006   5357189  230.725006     230.552505       0.199187   \n",
       "26491  232.320007   4160495  230.725006     230.906006       0.809054   \n",
       "\n",
       "       daily_range  avg_volume_5  daily_return  volume_ratio  \\\n",
       "26487     3.869995  1.331447e+07      0.000000      1.000000   \n",
       "26488     3.869995  1.331447e+07           NaN      1.000000   \n",
       "26489     1.580002  1.066205e+07      0.149753      0.502454   \n",
       "26490     1.580002  9.335832e+06      0.000000      0.573831   \n",
       "26491     2.130005  8.300764e+06      0.691300      0.501218   \n",
       "\n",
       "       rolling_volatility_10      sector  \n",
       "26487                    NaN  Technology  \n",
       "26488                    NaN  Technology  \n",
       "26489               0.105891  Technology  \n",
       "26490               0.086460  Technology  \n",
       "26491               0.328369  Technology  "
      ]
     },
     "execution_count": 3,
     "metadata": {},
     "output_type": "execute_result"
    }
   ],
   "source": [
    "df['datetime'] = pd.to_datetime(df['datetime'])\n",
    "\n",
    "# Sort for time series modeling\n",
    "df = df.sort_values(by=['symbol', 'datetime'])\n",
    "\n",
    "# Preview\n",
    "df.head()\n"
   ]
  },
  {
   "cell_type": "code",
   "execution_count": null,
   "id": "4049bf98",
   "metadata": {},
   "outputs": [],
   "source": [
    "df.shape"
   ]
  },
  {
   "cell_type": "code",
   "execution_count": 4,
   "id": "c689e9df",
   "metadata": {},
   "outputs": [
    {
     "data": {
      "text/plain": [
       "symbol\n",
       "AAPL    1537\n",
       "AXP     1349\n",
       "CRM     1196\n",
       "CAT     1196\n",
       "DIS     1196\n",
       "DOW     1196\n",
       "CSCO    1196\n",
       "CVX     1196\n",
       "GS      1196\n",
       "HD      1196\n",
       "IBM     1196\n",
       "HON     1196\n",
       "MRK     1196\n",
       "NKE     1196\n",
       "INTC    1196\n",
       "JNJ     1196\n",
       "JPM     1196\n",
       "KO      1196\n",
       "MCD     1196\n",
       "MMM     1196\n",
       "MSFT    1110\n",
       "AMGN     920\n",
       "BA       882\n",
       "PG       622\n",
       "TRV      314\n",
       "V        314\n",
       "VZ       314\n",
       "WBA       81\n",
       "Name: count, dtype: int64"
      ]
     },
     "execution_count": 4,
     "metadata": {},
     "output_type": "execute_result"
    }
   ],
   "source": [
    "df['symbol'].value_counts()\n",
    "\n"
   ]
  },
  {
   "cell_type": "code",
   "execution_count": 5,
   "id": "57e5fd25",
   "metadata": {},
   "outputs": [
    {
     "name": "stdout",
     "output_type": "stream",
     "text": [
      "Symbols retained: ['AAPL', 'AXP', 'CRM', 'CAT', 'DIS', 'DOW', 'CSCO', 'CVX', 'GS', 'HD', 'IBM', 'HON', 'MRK', 'NKE', 'INTC', 'JNJ', 'JPM', 'KO', 'MCD', 'MMM', 'MSFT', 'AMGN', 'BA', 'PG', 'TRV', 'V', 'VZ']\n"
     ]
    }
   ],
   "source": [
    "\n",
    "symbol_counts = df['symbol'].value_counts()\n",
    "valid_symbols = symbol_counts[symbol_counts > 300].index.tolist()\n",
    "\n",
    "df = df[df['symbol'].isin(valid_symbols)]\n",
    "\n",
    "print(\"Symbols retained:\", valid_symbols)\n"
   ]
  },
  {
   "cell_type": "code",
   "execution_count": 6,
   "id": "0405b01e",
   "metadata": {},
   "outputs": [],
   "source": [
    "features = [\n",
    "    'open', 'high', 'low', 'volume',\n",
    "    'rolling_avg_5', 'rolling_std_5',\n",
    "    'daily_range', 'avg_volume_5',\n",
    "    'daily_return', 'volume_ratio', 'rolling_volatility_10'\n",
    "]"
   ]
  },
  {
   "cell_type": "code",
   "execution_count": 7,
   "id": "ae94a3e5",
   "metadata": {},
   "outputs": [],
   "source": [
    "X = df[features]\n",
    "y = df['close']"
   ]
  },
  {
   "cell_type": "code",
   "execution_count": 8,
   "id": "734afe6a",
   "metadata": {},
   "outputs": [],
   "source": [
    "from sklearn.model_selection import train_test_split\n",
    "from sklearn.metrics import mean_squared_error"
   ]
  },
  {
   "cell_type": "code",
   "execution_count": 9,
   "id": "b6aa031a",
   "metadata": {},
   "outputs": [],
   "source": [
    "X_train, X_test, y_train, y_test = train_test_split(\n",
    "    X, y, test_size=0.2, random_state=42\n",
    ")"
   ]
  },
  {
   "cell_type": "code",
   "execution_count": 10,
   "id": "bea39032",
   "metadata": {},
   "outputs": [],
   "source": [
    "from dotenv import load_dotenv\n",
    "import os\n",
    "\n"
   ]
  },
  {
   "cell_type": "code",
   "execution_count": 11,
   "id": "7b4e4515",
   "metadata": {},
   "outputs": [
    {
     "name": "stdout",
     "output_type": "stream",
     "text": [
      "http://ec2-3-89-152-136.compute-1.amazonaws.com:5000\n"
     ]
    }
   ],
   "source": [
    "TRACKING_SERVER_HOST = os.getenv('MLFLOW_TRACKING_URI')\n",
    "print(TRACKING_SERVER_HOST)"
   ]
  },
  {
   "cell_type": "code",
   "execution_count": 12,
   "id": "f374a9e9",
   "metadata": {},
   "outputs": [],
   "source": [
    "import mlflow\n",
    "mlflow.set_tracking_uri(f\"{TRACKING_SERVER_HOST}\")\n"
   ]
  },
  {
   "cell_type": "code",
   "execution_count": 13,
   "id": "fba4c8bf",
   "metadata": {},
   "outputs": [
    {
     "name": "stdout",
     "output_type": "stream",
     "text": [
      "http://ec2-3-89-152-136.compute-1.amazonaws.com:5000\n"
     ]
    }
   ],
   "source": [
    "print(mlflow.get_tracking_uri())"
   ]
  },
  {
   "cell_type": "code",
   "execution_count": 14,
   "id": "0120134d",
   "metadata": {},
   "outputs": [],
   "source": [
    "import boto3\n",
    "\n",
    "# Initialize a session, optionally passing the region if necessary\n",
    "session = boto3.Session(region_name='us-east-1')\n",
    "\n",
    "# Get the credentials from the session\n",
    "credentials = session.get_credentials().get_frozen_credentials()\n",
    "\n",
    "# Get the region from the session\n",
    "region = session.region_name\n",
    "\n",
    "# Print credentials and region\n",
    "# print(f\"AWS Access Key ID: {credentials.access_key}\")\n",
    "# print(f\"AWS Secret Access Key: {credentials.secret_key}\")\n",
    "# print(f\"AWS Region: {region}\")\n",
    "\n",
    "s3_client = session.client('s3')"
   ]
  },
  {
   "cell_type": "code",
   "execution_count": 15,
   "id": "d83077ff",
   "metadata": {},
   "outputs": [
    {
     "data": {
      "text/plain": [
       "<Experiment: artifact_location='s3://mlflow-artifacts-remote23/249678797774142465', creation_time=1746053039574, experiment_id='249678797774142465', last_update_time=1746053039574, lifecycle_stage='active', name='Stock_Price_Prediction', tags={}>"
      ]
     },
     "execution_count": 15,
     "metadata": {},
     "output_type": "execute_result"
    }
   ],
   "source": [
    "mlflow.set_experiment(\"Stock_Price_Prediction\")"
   ]
  },
  {
   "cell_type": "code",
   "execution_count": 16,
   "id": "8ed1bf6b",
   "metadata": {},
   "outputs": [],
   "source": [
    "import xgboost as xgb\n",
    "import mlflow\n",
    "import mlflow.xgboost"
   ]
  },
  {
   "cell_type": "code",
   "execution_count": 19,
   "id": "8e88b8a0",
   "metadata": {},
   "outputs": [],
   "source": [
    "from mlflow.models.signature import infer_signature\n",
    "from mlflow.tracking import MlflowClient"
   ]
  },
  {
   "cell_type": "code",
   "execution_count": 18,
   "id": "9b62b834",
   "metadata": {},
   "outputs": [
    {
     "name": "stderr",
     "output_type": "stream",
     "text": [
      "c:\\Users\\loges\\.virtualenvs\\Stock_price-P2gocZed\\Lib\\site-packages\\mlflow\\types\\utils.py:452: UserWarning: Hint: Inferred schema contains integer column(s). Integer columns in Python cannot represent missing values. If your input data contains missing values at inference time, it will be encoded as floats and will cause a schema enforcement error. The best way to avoid this problem is to infer the model schema based on a realistic data sample (training dataset) that includes missing values. Alternatively, you can declare integer columns as doubles (float64) whenever these columns may have missing values. See `Handling Integers With Missing Values <https://www.mlflow.org/docs/latest/models.html#handling-integers-with-missing-values>`_ for more details.\n",
      "  warnings.warn(\n"
     ]
    },
    {
     "name": "stdout",
     "output_type": "stream",
     "text": [
      "Test RMSE: 2.1061\n"
     ]
    },
    {
     "name": "stderr",
     "output_type": "stream",
     "text": [
      "c:\\Users\\loges\\.virtualenvs\\Stock_price-P2gocZed\\Lib\\site-packages\\xgboost\\sklearn.py:1028: UserWarning: [21:55:59] WARNING: C:\\actions-runner\\_work\\xgboost\\xgboost\\src\\c_api\\c_api.cc:1427: Saving model in the UBJSON format as default.  You can use file extension: `json`, `ubj` or `deprecated` to choose between formats.\n",
      "  self.get_booster().save_model(fname)\n",
      "INFO:botocore.credentials:Found credentials in environment variables.\n",
      "Registered model 'StockPricePredictor' already exists. Creating a new version of this model...\n",
      "2025/05/23 21:56:13 INFO mlflow.store.model_registry.abstract_store: Waiting up to 300 seconds for model version to finish creation. Model name: StockPricePredictor, version 2\n",
      "Created version '2' of model 'StockPricePredictor'.\n"
     ]
    },
    {
     "name": "stdout",
     "output_type": "stream",
     "text": [
      "🏃 View run xgboost_stock_model at: http://ec2-3-89-152-136.compute-1.amazonaws.com:5000/#/experiments/249678797774142465/runs/9e6bd859a825413280349b498ef1f9f9\n",
      "🧪 View experiment at: http://ec2-3-89-152-136.compute-1.amazonaws.com:5000/#/experiments/249678797774142465\n",
      "✅ Model training + MLflow logging complete!\n"
     ]
    }
   ],
   "source": [
    "with mlflow.start_run(run_name=\"xgboost_stock_model\"):\n",
    "    model = xgb.XGBRegressor(\n",
    "        n_estimators=100,\n",
    "        learning_rate=0.1,\n",
    "        max_depth=6,\n",
    "        random_state=42,\n",
    "        tree_method=\"hist\"\n",
    "    )\n",
    "\n",
    "    model.fit(X_train, y_train)\n",
    "\n",
    "    # Predict\n",
    "    preds = model.predict(X_test)\n",
    "    train_preds = model.predict(X_train)\n",
    "    rmse = mean_squared_error(y_test, preds)\n",
    "    signature = infer_signature(X_train, train_preds)\n",
    "    print(f\"Test RMSE: {rmse:.4f}\")\n",
    "\n",
    "    # Log parameters\n",
    "    mlflow.log_param(\"n_estimators\", 100)\n",
    "    mlflow.log_param(\"learning_rate\", 0.1)\n",
    "    mlflow.log_param(\"max_depth\", 6)\n",
    "\n",
    "    # Log metric\n",
    "    mlflow.log_metric(\"rmse\", rmse)\n",
    "\n",
    "    # Log model artifact\n",
    "    mlflow.xgboost.log_model(\n",
    "    model,\n",
    "    artifact_path=\"models/xgboost_stock_model\",\n",
    "    signature=signature,\n",
    "    input_example=X_train.iloc[:5],\n",
    "    registered_model_name=\"StockPricePredictor\"\n",
    ")\n",
    "\n",
    "print(\"✅ Model training + MLflow logging complete!\")"
   ]
  },
  {
   "cell_type": "code",
   "execution_count": 20,
   "id": "45075347",
   "metadata": {},
   "outputs": [
    {
     "name": "stderr",
     "output_type": "stream",
     "text": [
      "C:\\Users\\loges\\AppData\\Local\\Temp\\ipykernel_38140\\3700713261.py:6: FutureWarning: ``mlflow.tracking.client.MlflowClient.get_latest_versions`` is deprecated since 2.9.0. Model registry stages will be removed in a future major release. To learn more about the deprecation of model registry stages, see our migration guide here: https://mlflow.org/docs/latest/model-registry.html#migrating-from-stages\n",
      "  all_versions = client.get_latest_versions(name=model_name, stages=[\"None\", \"Staging\", \"Archived\"])\n"
     ]
    },
    {
     "name": "stdout",
     "output_type": "stream",
     "text": [
      "Promoting version 2 of model 'StockPricePredictor' to Production...\n"
     ]
    },
    {
     "name": "stderr",
     "output_type": "stream",
     "text": [
      "C:\\Users\\loges\\AppData\\Local\\Temp\\ipykernel_38140\\3700713261.py:14: FutureWarning: ``mlflow.tracking.client.MlflowClient.transition_model_version_stage`` is deprecated since 2.9.0. Model registry stages will be removed in a future major release. To learn more about the deprecation of model registry stages, see our migration guide here: https://mlflow.org/docs/latest/model-registry.html#migrating-from-stages\n",
      "  client.transition_model_version_stage(\n"
     ]
    },
    {
     "name": "stdout",
     "output_type": "stream",
     "text": [
      "✅ Model version 2 is now in Production.\n"
     ]
    }
   ],
   "source": [
    "\n",
    "\n",
    "client = MlflowClient()\n",
    "\n",
    "model_name = \"StockPricePredictor\"\n",
    "\n",
    "# Get all versions of the registered model\n",
    "all_versions = client.get_latest_versions(name=model_name, stages=[\"None\", \"Staging\", \"Archived\"])\n",
    "\n",
    "# Sort by version number (as int) to find the latest\n",
    "latest_version = max(all_versions, key=lambda v: int(v.version))\n",
    "\n",
    "print(f\"Promoting version {latest_version.version} of model '{model_name}' to Production...\")\n",
    "\n",
    "# Promote to Production (archives any existing version in Production)\n",
    "client.transition_model_version_stage(\n",
    "    name=model_name,\n",
    "    version=latest_version.version,\n",
    "    stage=\"Production\",\n",
    "    archive_existing_versions=True\n",
    ")\n",
    "\n",
    "print(f\"✅ Model version {latest_version.version} is now in Production.\")\n"
   ]
  },
  {
   "cell_type": "code",
   "execution_count": null,
   "id": "7392585e",
   "metadata": {},
   "outputs": [],
   "source": [
    "import matplotlib.pyplot as plt\n",
    "import seaborn as sns\n",
    "\n",
    "# Filter for AAPL\n",
    "aapl_df = df[df['symbol'] == 'AAPL'].sort_values('datetime')\n",
    "\n",
    "# Plot closing price\n",
    "plt.figure(figsize=(12, 5))\n",
    "sns.lineplot(x='datetime', y='close', data=aapl_df)\n",
    "plt.title(\"AAPL Closing Price Over Time\")\n",
    "plt.xlabel(\"Date\")\n",
    "plt.ylabel(\"Close Price\")\n",
    "plt.xticks(rotation=45)\n",
    "plt.tight_layout()\n",
    "plt.show()"
   ]
  },
  {
   "cell_type": "code",
   "execution_count": null,
   "id": "520f44be",
   "metadata": {},
   "outputs": [],
   "source": [
    "model_uri = \"models:/StockPricePredictor/1\"  # version 1 of registered model\n",
    "model = mlflow.pyfunc.load_model(model_uri)"
   ]
  },
  {
   "cell_type": "code",
   "execution_count": null,
   "id": "ec44759f",
   "metadata": {},
   "outputs": [],
   "source": [
    "import pandas as pd\n",
    "\n",
    "sample_input = pd.DataFrame([{\n",
    "    \"open\": 170.0,\n",
    "    \"high\": 172.0,\n",
    "    \"low\": 168.5,\n",
    "    \"volume\": 15000000,\n",
    "    \"rolling_avg_5\": 171.2,\n",
    "    \"rolling_std_5\": 1.3,\n",
    "    \"daily_range\": 3.5,\n",
    "    \"avg_volume_5\": float(14500000),\n",
    "    \"daily_return\": 0.5,\n",
    "    \"volume_ratio\": 1.05,\n",
    "    \"rolling_volatility_10\": 1.2,\n",
    "    \"sector_Consumer_Discretionary\": 0,\n",
    "    \"sector_Consumer_Staples\": 0,\n",
    "    \"sector_Energy\": 0,\n",
    "    \"sector_Financials\": 0,\n",
    "    \"sector_Healthcare\": 0,\n",
    "    \"sector_Industrials\": 0,\n",
    "    \"sector_Materials\": 0,\n",
    "    \"sector_Communication_Services\": 0,\n",
    "    \"sector_Technology\": 1,  # assume AAPL\n",
    "    \"sector_Unknown\": 0,\n",
    "}])\n",
    "\n",
    "# Predict\n",
    "prediction = model.predict(sample_input)\n",
    "print(\"✅ Prediction:\", prediction[0])"
   ]
  }
 ],
 "metadata": {
  "kernelspec": {
   "display_name": "Stock_price-P2gocZed",
   "language": "python",
   "name": "python3"
  },
  "language_info": {
   "codemirror_mode": {
    "name": "ipython",
    "version": 3
   },
   "file_extension": ".py",
   "mimetype": "text/x-python",
   "name": "python",
   "nbconvert_exporter": "python",
   "pygments_lexer": "ipython3",
   "version": "3.12.3"
  }
 },
 "nbformat": 4,
 "nbformat_minor": 5
}
