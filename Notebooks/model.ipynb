{
 "cells": [
  {
   "cell_type": "code",
   "execution_count": null,
   "id": "c589157e",
   "metadata": {},
   "outputs": [],
   "source": [
    "import duckdb\n",
    "import pandas as pd\n",
    "\n",
    "# Connect to your dbt DuckDB file\n",
    "con = duckdb.connect(\"../stock_dbt_project/dev.duckdb\")\n",
    "\n",
    "\n",
    "\n",
    "con.execute(\"SHOW TABLES\").fetchall()\n"
   ]
  },
  {
   "cell_type": "code",
   "execution_count": null,
   "id": "f1ceff6a",
   "metadata": {},
   "outputs": [],
   "source": [
    "df = con.execute(\"SELECT * FROM features_stock_data\").fetchdf()"
   ]
  },
  {
   "cell_type": "code",
   "execution_count": null,
   "id": "747050c5",
   "metadata": {},
   "outputs": [],
   "source": [
    "df['datetime'] = pd.to_datetime(df['datetime'])\n",
    "\n",
    "# Sort for time series modeling\n",
    "df = df.sort_values(by=['symbol', 'datetime'])\n",
    "\n",
    "# Preview\n",
    "df.head()\n"
   ]
  },
  {
   "cell_type": "code",
   "execution_count": null,
   "id": "4049bf98",
   "metadata": {},
   "outputs": [],
   "source": [
    "df.shape"
   ]
  },
  {
   "cell_type": "code",
   "execution_count": null,
   "id": "c689e9df",
   "metadata": {},
   "outputs": [],
   "source": [
    "df['symbol'].value_counts()\n",
    "\n"
   ]
  },
  {
   "cell_type": "code",
   "execution_count": null,
   "id": "57e5fd25",
   "metadata": {},
   "outputs": [],
   "source": [
    "\n",
    "symbol_counts = df['symbol'].value_counts()\n",
    "valid_symbols = symbol_counts[symbol_counts > 300].index.tolist()\n",
    "\n",
    "df = df[df['symbol'].isin(valid_symbols)]\n",
    "\n",
    "print(\"Symbols retained:\", valid_symbols)\n"
   ]
  },
  {
   "cell_type": "code",
   "execution_count": null,
   "id": "0405b01e",
   "metadata": {},
   "outputs": [],
   "source": [
    "features = [\n",
    "    'open', 'high', 'low', 'volume',\n",
    "    'rolling_avg_5', 'rolling_std_5',\n",
    "    'daily_range', 'avg_volume_5',\n",
    "    'daily_return', 'volume_ratio', 'rolling_volatility_10'\n",
    "]"
   ]
  },
  {
   "cell_type": "code",
   "execution_count": null,
   "id": "ae94a3e5",
   "metadata": {},
   "outputs": [],
   "source": [
    "X = df[features]\n",
    "y = df['close']"
   ]
  },
  {
   "cell_type": "code",
   "execution_count": null,
   "id": "734afe6a",
   "metadata": {},
   "outputs": [],
   "source": [
    "from sklearn.model_selection import train_test_split\n",
    "from sklearn.metrics import mean_squared_error"
   ]
  },
  {
   "cell_type": "code",
   "execution_count": null,
   "id": "b6aa031a",
   "metadata": {},
   "outputs": [],
   "source": [
    "X_train, X_test, y_train, y_test = train_test_split(\n",
    "    X, y, test_size=0.2, random_state=42\n",
    ")"
   ]
  },
  {
   "cell_type": "code",
   "execution_count": null,
   "id": "bea39032",
   "metadata": {},
   "outputs": [],
   "source": [
    "from dotenv import load_dotenv\n",
    "import os\n",
    "\n"
   ]
  },
  {
   "cell_type": "code",
   "execution_count": null,
   "id": "7b4e4515",
   "metadata": {},
   "outputs": [],
   "source": [
    "TRACKING_SERVER_HOST = os.getenv('MLFLOW_TRACKING_URI')\n",
    "print(TRACKING_SERVER_HOST)"
   ]
  },
  {
   "cell_type": "code",
   "execution_count": null,
   "id": "f374a9e9",
   "metadata": {},
   "outputs": [],
   "source": [
    "import mlflow\n",
    "mlflow.set_tracking_uri(f\"{TRACKING_SERVER_HOST}\")\n"
   ]
  },
  {
   "cell_type": "code",
   "execution_count": null,
   "id": "fba4c8bf",
   "metadata": {},
   "outputs": [],
   "source": [
    "print(mlflow.get_tracking_uri())"
   ]
  },
  {
   "cell_type": "code",
   "execution_count": null,
   "id": "0120134d",
   "metadata": {},
   "outputs": [],
   "source": [
    "import boto3\n",
    "\n",
    "# Initialize a session, optionally passing the region if necessary\n",
    "session = boto3.Session(region_name='us-east-1')\n",
    "\n",
    "# Get the credentials from the session\n",
    "credentials = session.get_credentials().get_frozen_credentials()\n",
    "\n",
    "# Get the region from the session\n",
    "region = session.region_name\n",
    "\n",
    "# Print credentials and region\n",
    "# print(f\"AWS Access Key ID: {credentials.access_key}\")\n",
    "# print(f\"AWS Secret Access Key: {credentials.secret_key}\")\n",
    "# print(f\"AWS Region: {region}\")\n",
    "\n",
    "s3_client = session.client('s3')"
   ]
  },
  {
   "cell_type": "code",
   "execution_count": null,
   "id": "d83077ff",
   "metadata": {},
   "outputs": [],
   "source": [
    "mlflow.set_experiment(\"Stock_Price_Prediction\")"
   ]
  },
  {
   "cell_type": "code",
   "execution_count": null,
   "id": "8ed1bf6b",
   "metadata": {},
   "outputs": [],
   "source": [
    "import xgboost as xgb\n",
    "import mlflow\n",
    "import mlflow.xgboost"
   ]
  },
  {
   "cell_type": "code",
   "execution_count": null,
   "id": "8e88b8a0",
   "metadata": {},
   "outputs": [],
   "source": [
    "from mlflow.models.signature import infer_signature"
   ]
  },
  {
   "cell_type": "code",
   "execution_count": null,
   "id": "9b62b834",
   "metadata": {},
   "outputs": [],
   "source": [
    "with mlflow.start_run(run_name=\"xgboost_stock_model\"):\n",
    "    model = xgb.XGBRegressor(\n",
    "        n_estimators=100,\n",
    "        learning_rate=0.1,\n",
    "        max_depth=6,\n",
    "        random_state=42,\n",
    "        tree_method=\"hist\"\n",
    "    )\n",
    "\n",
    "    model.fit(X_train, y_train)\n",
    "\n",
    "    # Predict\n",
    "    preds = model.predict(X_test)\n",
    "    train_preds = model.predict(X_train)\n",
    "    rmse = mean_squared_error(y_test, preds)\n",
    "    signature = infer_signature(X_train, train_preds)\n",
    "    print(f\"Test RMSE: {rmse:.4f}\")\n",
    "\n",
    "    # Log parameters\n",
    "    mlflow.log_param(\"n_estimators\", 100)\n",
    "    mlflow.log_param(\"learning_rate\", 0.1)\n",
    "    mlflow.log_param(\"max_depth\", 6)\n",
    "\n",
    "    # Log metric\n",
    "    mlflow.log_metric(\"rmse\", rmse)\n",
    "\n",
    "    # Log model artifact\n",
    "    mlflow.xgboost.log_model(\n",
    "    model,\n",
    "    artifact_path=\"models/xgboost_stock_model\",\n",
    "    signature=signature,\n",
    "    input_example=X_train.iloc[:5],\n",
    "    registered_model_name=\"StockPricePredictor\"\n",
    ")\n",
    "\n",
    "print(\"✅ Model training + MLflow logging complete!\")"
   ]
  },
  {
   "cell_type": "code",
   "execution_count": null,
   "id": "7392585e",
   "metadata": {},
   "outputs": [],
   "source": [
    "import matplotlib.pyplot as plt\n",
    "import seaborn as sns\n",
    "\n",
    "# Filter for AAPL\n",
    "aapl_df = df[df['symbol'] == 'AAPL'].sort_values('datetime')\n",
    "\n",
    "# Plot closing price\n",
    "plt.figure(figsize=(12, 5))\n",
    "sns.lineplot(x='datetime', y='close', data=aapl_df)\n",
    "plt.title(\"AAPL Closing Price Over Time\")\n",
    "plt.xlabel(\"Date\")\n",
    "plt.ylabel(\"Close Price\")\n",
    "plt.xticks(rotation=45)\n",
    "plt.tight_layout()\n",
    "plt.show()"
   ]
  },
  {
   "cell_type": "code",
   "execution_count": null,
   "id": "520f44be",
   "metadata": {},
   "outputs": [],
   "source": [
    "model_uri = \"models:/StockPricePredictor/1\"  # version 1 of registered model\n",
    "model = mlflow.pyfunc.load_model(model_uri)"
   ]
  },
  {
   "cell_type": "code",
   "execution_count": null,
   "id": "ec44759f",
   "metadata": {},
   "outputs": [],
   "source": [
    "import pandas as pd\n",
    "\n",
    "sample_input = pd.DataFrame([{\n",
    "    \"open\": 170.0,\n",
    "    \"high\": 172.0,\n",
    "    \"low\": 168.5,\n",
    "    \"volume\": 15000000,\n",
    "    \"rolling_avg_5\": 171.2,\n",
    "    \"rolling_std_5\": 1.3,\n",
    "    \"daily_range\": 3.5,\n",
    "    \"avg_volume_5\": float(14500000),\n",
    "    \"daily_return\": 0.5,\n",
    "    \"volume_ratio\": 1.05,\n",
    "    \"rolling_volatility_10\": 1.2,\n",
    "    \"sector_Consumer_Discretionary\": 0,\n",
    "    \"sector_Consumer_Staples\": 0,\n",
    "    \"sector_Energy\": 0,\n",
    "    \"sector_Financials\": 0,\n",
    "    \"sector_Healthcare\": 0,\n",
    "    \"sector_Industrials\": 0,\n",
    "    \"sector_Materials\": 0,\n",
    "    \"sector_Communication_Services\": 0,\n",
    "    \"sector_Technology\": 1,  # assume AAPL\n",
    "    \"sector_Unknown\": 0,\n",
    "}])\n",
    "\n",
    "# Predict\n",
    "prediction = model.predict(sample_input)\n",
    "print(\"✅ Prediction:\", prediction[0])"
   ]
  }
 ],
 "metadata": {
  "kernelspec": {
   "display_name": "Stock_price-P2gocZed",
   "language": "python",
   "name": "python3"
  },
  "language_info": {
   "codemirror_mode": {
    "name": "ipython",
    "version": 3
   },
   "file_extension": ".py",
   "mimetype": "text/x-python",
   "name": "python",
   "nbconvert_exporter": "python",
   "pygments_lexer": "ipython3",
   "version": "3.12.3"
  }
 },
 "nbformat": 4,
 "nbformat_minor": 5
}
